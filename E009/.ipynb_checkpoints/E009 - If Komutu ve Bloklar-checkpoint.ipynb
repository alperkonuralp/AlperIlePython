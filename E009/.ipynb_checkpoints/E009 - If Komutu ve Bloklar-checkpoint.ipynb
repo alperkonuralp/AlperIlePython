{
 "cells": [
  {
   "cell_type": "code",
   "execution_count": 1,
   "metadata": {},
   "outputs": [],
   "source": [
    "a = 5"
   ]
  },
  {
   "cell_type": "code",
   "execution_count": 2,
   "metadata": {},
   "outputs": [
    {
     "name": "stdout",
     "output_type": "stream",
     "text": [
      "a 5'e eşittir.\n",
      "İyi günler\n"
     ]
    }
   ],
   "source": [
    "if a == 5:\n",
    "    print(\"a 5'e eşittir.\")\n",
    "    print('İyi günler')"
   ]
  },
  {
   "cell_type": "code",
   "execution_count": 3,
   "metadata": {},
   "outputs": [
    {
     "name": "stdout",
     "output_type": "stream",
     "text": [
      "İyi Günler\n"
     ]
    }
   ],
   "source": [
    "if a == 6:\n",
    "    print(\"a 6'ya eşittir\")\n",
    "print(\"İyi Günler\")"
   ]
  },
  {
   "cell_type": "code",
   "execution_count": 4,
   "metadata": {},
   "outputs": [],
   "source": [
    "a = 5\n",
    "b = 3"
   ]
  },
  {
   "cell_type": "code",
   "execution_count": 5,
   "metadata": {},
   "outputs": [
    {
     "name": "stdout",
     "output_type": "stream",
     "text": [
      "a 5'e ve b 3'e eşittir.\n",
      "İyi Günler\n"
     ]
    }
   ],
   "source": [
    "if a == 5:\n",
    "    if b == 3:\n",
    "        print(\"a 5'e ve b 3'e eşittir.\")\n",
    "\n",
    "print(\"İyi Günler\")"
   ]
  },
  {
   "cell_type": "code",
   "execution_count": 6,
   "metadata": {},
   "outputs": [
    {
     "name": "stdout",
     "output_type": "stream",
     "text": [
      "a 5'e ve b 3'e eşittir.\n",
      "İyi Günler\n"
     ]
    }
   ],
   "source": [
    "if a == 5 and b == 3:\n",
    "    print(\"a 5'e ve b 3'e eşittir.\")\n",
    "    \n",
    "print(\"İyi Günler\")"
   ]
  },
  {
   "cell_type": "code",
   "execution_count": 7,
   "metadata": {},
   "outputs": [
    {
     "name": "stdout",
     "output_type": "stream",
     "text": [
      "a 5'e ve b 3'e eşittir.\n",
      "İyi Günler\n"
     ]
    }
   ],
   "source": [
    "if a == 5:\n",
    "    if b == 3:\n",
    "        print(\"a 5'e ve b 3'e eşittir.\")\n",
    "    a += 1\n",
    "\n",
    "print(\"İyi Günler\")"
   ]
  },
  {
   "cell_type": "code",
   "execution_count": 8,
   "metadata": {},
   "outputs": [
    {
     "data": {
      "text/plain": [
       "6"
      ]
     },
     "execution_count": 8,
     "metadata": {},
     "output_type": "execute_result"
    }
   ],
   "source": [
    "a"
   ]
  },
  {
   "cell_type": "code",
   "execution_count": null,
   "metadata": {},
   "outputs": [],
   "source": []
  }
 ],
 "metadata": {
  "kernelspec": {
   "display_name": "Python 3",
   "language": "python",
   "name": "python3"
  },
  "language_info": {
   "codemirror_mode": {
    "name": "ipython",
    "version": 3
   },
   "file_extension": ".py",
   "mimetype": "text/x-python",
   "name": "python",
   "nbconvert_exporter": "python",
   "pygments_lexer": "ipython3",
   "version": "3.8.5"
  }
 },
 "nbformat": 4,
 "nbformat_minor": 4
}
