{
 "cells": [
  {
   "cell_type": "code",
   "execution_count": 1,
   "metadata": {},
   "outputs": [],
   "source": [
    "a = 5"
   ]
  },
  {
   "cell_type": "code",
   "execution_count": 2,
   "metadata": {},
   "outputs": [
    {
     "name": "stdout",
     "output_type": "stream",
     "text": [
      "a 5'e eşit\n"
     ]
    }
   ],
   "source": [
    "if a == 5:\n",
    "    print(\"a 5'e eşit\")\n",
    "else:\n",
    "    print(\"a 5'e eşit değil\")\n",
    "    "
   ]
  },
  {
   "cell_type": "code",
   "execution_count": 3,
   "metadata": {},
   "outputs": [
    {
     "name": "stdout",
     "output_type": "stream",
     "text": [
      "a 6'ya eşit değil\n"
     ]
    }
   ],
   "source": [
    "if a == 6:\n",
    "    print(\"a 6'ya eşit\")\n",
    "else:\n",
    "    print(\"a 6'ya eşit değil\")\n",
    "    "
   ]
  },
  {
   "cell_type": "code",
   "execution_count": 6,
   "metadata": {},
   "outputs": [
    {
     "name": "stdout",
     "output_type": "stream",
     "text": [
      "1. Topla\n",
      "diğer tuşlar çıkış\n",
      "0\n",
      "Güle Güle\n"
     ]
    }
   ],
   "source": [
    "print(\"1. Topla\")\n",
    "print(\"diğer tuşlar çıkış\")\n",
    "a = input()\n",
    "if a == \"1\":\n",
    "    print(\"toplama seçildi.\")\n",
    "    # ...\n",
    "else:\n",
    "    print(\"Güle Güle\")\n",
    "    # exit()"
   ]
  },
  {
   "cell_type": "code",
   "execution_count": 10,
   "metadata": {},
   "outputs": [
    {
     "name": "stdout",
     "output_type": "stream",
     "text": [
      "1. Topla\n",
      "2. Çıkart\n",
      "3. Çarp\n",
      "diğer tuşlar çıkış\n",
      "0\n",
      "Güle Güle\n"
     ]
    }
   ],
   "source": [
    "print(\"1. Topla\")\n",
    "print(\"2. Çıkart\")\n",
    "print(\"3. Çarp\")\n",
    "print(\"diğer tuşlar çıkış\")\n",
    "a = input()\n",
    "if a == \"1\":\n",
    "    print(\"toplama seçildi.\")\n",
    "    # ...\n",
    "elif a == \"2\":\n",
    "    print(\"çıkartma seçildi.\")\n",
    "    # ...\n",
    "elif a == \"3\":\n",
    "    print(\"çarpma seçildi.\")\n",
    "    # ...\n",
    "else:\n",
    "    print(\"Güle Güle\")\n",
    "    # exit()"
   ]
  },
  {
   "cell_type": "code",
   "execution_count": null,
   "metadata": {},
   "outputs": [],
   "source": []
  }
 ],
 "metadata": {
  "kernelspec": {
   "display_name": "Python 3",
   "language": "python",
   "name": "python3"
  },
  "language_info": {
   "codemirror_mode": {
    "name": "ipython",
    "version": 3
   },
   "file_extension": ".py",
   "mimetype": "text/x-python",
   "name": "python",
   "nbconvert_exporter": "python",
   "pygments_lexer": "ipython3",
   "version": "3.8.5"
  }
 },
 "nbformat": 4,
 "nbformat_minor": 4
}
