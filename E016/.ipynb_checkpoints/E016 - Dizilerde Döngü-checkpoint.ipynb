{
 "cells": [
  {
   "cell_type": "code",
   "execution_count": 1,
   "metadata": {},
   "outputs": [
    {
     "data": {
      "text/plain": [
       "[0, 1, 2, 3, 4, 5, 6, 7, 8, 9]"
      ]
     },
     "execution_count": 1,
     "metadata": {},
     "output_type": "execute_result"
    }
   ],
   "source": [
    "dizi = [0,1,2,3,4,5,6,7,8,9]\n",
    "dizi"
   ]
  },
  {
   "cell_type": "code",
   "execution_count": 2,
   "metadata": {},
   "outputs": [
    {
     "name": "stdout",
     "output_type": "stream",
     "text": [
      "0\n",
      "1\n",
      "2\n",
      "3\n",
      "4\n",
      "5\n",
      "6\n",
      "7\n",
      "8\n",
      "9\n",
      "Bitti\n"
     ]
    }
   ],
   "source": [
    "i = 0\n",
    "\n",
    "while i < len(dizi):\n",
    "    print(dizi[i])\n",
    "    i += 1\n",
    "    \n",
    "print(\"Bitti\")"
   ]
  },
  {
   "cell_type": "code",
   "execution_count": 3,
   "metadata": {},
   "outputs": [
    {
     "name": "stdout",
     "output_type": "stream",
     "text": [
      "0\n",
      "1\n",
      "2\n",
      "3\n",
      "4\n",
      "5\n",
      "6\n",
      "7\n",
      "8\n",
      "9\n",
      "Bitti\n"
     ]
    }
   ],
   "source": [
    "for item in dizi:\n",
    "    print(item)\n",
    "    \n",
    "print(\"Bitti\")"
   ]
  },
  {
   "cell_type": "code",
   "execution_count": 4,
   "metadata": {},
   "outputs": [
    {
     "name": "stdout",
     "output_type": "stream",
     "text": [
      "0\n",
      "1\n",
      "2\n",
      "3\n",
      "4\n",
      "6\n",
      "7\n",
      "8\n",
      "9\n",
      "Bitti\n"
     ]
    }
   ],
   "source": [
    "for item in dizi:\n",
    "    if item == 5: continue\n",
    "    print(item)\n",
    "    \n",
    "print(\"Bitti\")"
   ]
  },
  {
   "cell_type": "code",
   "execution_count": 5,
   "metadata": {},
   "outputs": [
    {
     "name": "stdout",
     "output_type": "stream",
     "text": [
      "Toplam = 45\n"
     ]
    }
   ],
   "source": [
    "toplam = 0\n",
    "\n",
    "for item in dizi:\n",
    "    toplam += item\n",
    "    \n",
    "print(f\"Toplam = {toplam}\")"
   ]
  },
  {
   "cell_type": "code",
   "execution_count": 6,
   "metadata": {},
   "outputs": [
    {
     "name": "stdout",
     "output_type": "stream",
     "text": [
      "Toplam = 21\n"
     ]
    }
   ],
   "source": [
    "toplam = 0\n",
    "\n",
    "for item in dizi:\n",
    "    toplam += item\n",
    "    if(toplam >= 20): break\n",
    "    \n",
    "print(f\"Toplam = {toplam}\")"
   ]
  },
  {
   "cell_type": "code",
   "execution_count": 7,
   "metadata": {},
   "outputs": [
    {
     "name": "stdout",
     "output_type": "stream",
     "text": [
      "Toplam = 21, Son Değer = 6\n"
     ]
    }
   ],
   "source": [
    "toplam = 0\n",
    "\n",
    "for item in dizi:\n",
    "    toplam += item\n",
    "    if(toplam >= 20): break\n",
    "    \n",
    "print(f\"Toplam = {toplam}, Son Değer = {item}\")"
   ]
  },
  {
   "cell_type": "code",
   "execution_count": 9,
   "metadata": {},
   "outputs": [
    {
     "name": "stdout",
     "output_type": "stream",
     "text": [
      "toplam + dizi[0] = 0 + 0 = 0\n",
      "toplam + dizi[1] = 0 + 1 = 1\n",
      "toplam + dizi[2] = 1 + 2 = 3\n",
      "toplam + dizi[3] = 3 + 3 = 6\n",
      "toplam + dizi[4] = 6 + 4 = 10\n",
      "toplam + dizi[5] = 10 + 5 = 15\n",
      "toplam + dizi[6] = 15 + 6 = 21\n",
      "toplam + dizi[7] = 21 + 7 = 28\n",
      "toplam + dizi[8] = 28 + 8 = 36\n",
      "toplam + dizi[9] = 36 + 9 = 45\n",
      "Toplam = 45\n"
     ]
    }
   ],
   "source": [
    "toplam = 0\n",
    "\n",
    "for (item, i) in enumerate(dizi):\n",
    "    str = f\"toplam + dizi[{i}] = {toplam} + {item} =\"\n",
    "    toplam += item\n",
    "    print(str, toplam)\n",
    "    \n",
    "print(f\"Toplam = {toplam}\")"
   ]
  },
  {
   "cell_type": "code",
   "execution_count": 10,
   "metadata": {},
   "outputs": [
    {
     "name": "stdout",
     "output_type": "stream",
     "text": [
      "0\n",
      "1\n",
      "2\n",
      "3\n",
      "4\n",
      "5\n",
      "6\n",
      "7\n",
      "8\n",
      "9\n"
     ]
    }
   ],
   "source": [
    "for i in range(0,10):\n",
    "    print(i)"
   ]
  },
  {
   "cell_type": "code",
   "execution_count": 13,
   "metadata": {},
   "outputs": [],
   "source": [
    "for i in range(10,10):\n",
    "    print(i)"
   ]
  },
  {
   "cell_type": "code",
   "execution_count": 14,
   "metadata": {},
   "outputs": [
    {
     "name": "stdout",
     "output_type": "stream",
     "text": [
      "10\n",
      "11\n",
      "12\n",
      "13\n",
      "14\n",
      "15\n",
      "16\n",
      "17\n",
      "18\n",
      "19\n"
     ]
    }
   ],
   "source": [
    "for i in range(10, 20):\n",
    "    print(i)"
   ]
  },
  {
   "cell_type": "code",
   "execution_count": 15,
   "metadata": {},
   "outputs": [
    {
     "name": "stdout",
     "output_type": "stream",
     "text": [
      "10\n",
      "20\n",
      "30\n",
      "40\n",
      "50\n",
      "60\n",
      "70\n",
      "80\n",
      "90\n",
      "100\n"
     ]
    }
   ],
   "source": [
    "for i in range(10, 101, 10):\n",
    "    print(i)"
   ]
  },
  {
   "cell_type": "code",
   "execution_count": null,
   "metadata": {},
   "outputs": [],
   "source": []
  }
 ],
 "metadata": {
  "kernelspec": {
   "display_name": "Python 3",
   "language": "python",
   "name": "python3"
  },
  "language_info": {
   "codemirror_mode": {
    "name": "ipython",
    "version": 3
   },
   "file_extension": ".py",
   "mimetype": "text/x-python",
   "name": "python",
   "nbconvert_exporter": "python",
   "pygments_lexer": "ipython3",
   "version": "3.8.5"
  }
 },
 "nbformat": 4,
 "nbformat_minor": 4
}
