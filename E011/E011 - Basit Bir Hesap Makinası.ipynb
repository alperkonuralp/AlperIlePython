{
 "cells": [
  {
   "cell_type": "code",
   "execution_count": 1,
   "metadata": {},
   "outputs": [
    {
     "name": "stdout",
     "output_type": "stream",
     "text": [
      "23\n",
      "4\n",
      "2\n",
      "19\n"
     ]
    }
   ],
   "source": [
    "a = int(input())\n",
    "b = int(input())\n",
    "c = input()\n",
    "if c == \"1\":\n",
    "    print( a + b )\n",
    "elif c == \"2\":\n",
    "    print( a - b )\n",
    "elif c == \"3\":\n",
    "    print( a * b )\n",
    "elif c == \"4\":\n",
    "    print( a / b )\n",
    "else:\n",
    "    print( a, b)"
   ]
  },
  {
   "cell_type": "code",
   "execution_count": 2,
   "metadata": {},
   "outputs": [
    {
     "name": "stdout",
     "output_type": "stream",
     "text": [
      "Hesap Makinası\n",
      "--------------\n",
      "\n",
      "İlk sayıyı giriniz:\n",
      "23\n",
      "İkinci sayıyı giriniz:\n",
      "4\n",
      "İşlem Seçiniz:\n",
      "1. Toplama\n",
      "2. Çıkarma\n",
      "3. Çarpma\n",
      "4. Bölme\n",
      "Diğer tuşlar çıkış\n",
      "2\n",
      "a - b = 23 - 4 = 19\n",
      "İyi Günler\n"
     ]
    }
   ],
   "source": [
    "print(\"Hesap Makinası\")\n",
    "print(\"--------------\\n\")\n",
    "\n",
    "print(\"İlk sayıyı giriniz:\")\n",
    "a = int(input())\n",
    "\n",
    "print(\"İkinci sayıyı giriniz:\")\n",
    "b = int(input())\n",
    "\n",
    "print(\"İşlem Seçiniz:\")\n",
    "print(\"1. Toplama\")\n",
    "print(\"2. Çıkarma\")\n",
    "print(\"3. Çarpma\")\n",
    "print(\"4. Bölme\")\n",
    "print(\"Diğer tuşlar çıkış\")\n",
    "c = input()\n",
    "\n",
    "if c == \"1\":\n",
    "    print('a + b =', a , '+', b, '=', a + b )\n",
    "elif c == \"2\":\n",
    "    print('a - b =', a , '-', b, '=', a - b )\n",
    "elif c == \"3\":\n",
    "    print('a * b =', a , '*', b, '=', a * b )\n",
    "elif c == \"4\":\n",
    "    print('a / b =', a , '/', b, '=', a / b )\n",
    "\n",
    "print('İyi Günler')"
   ]
  },
  {
   "cell_type": "code",
   "execution_count": null,
   "metadata": {},
   "outputs": [],
   "source": []
  }
 ],
 "metadata": {
  "kernelspec": {
   "display_name": "Python 3",
   "language": "python",
   "name": "python3"
  },
  "language_info": {
   "codemirror_mode": {
    "name": "ipython",
    "version": 3
   },
   "file_extension": ".py",
   "mimetype": "text/x-python",
   "name": "python",
   "nbconvert_exporter": "python",
   "pygments_lexer": "ipython3",
   "version": "3.8.5"
  }
 },
 "nbformat": 4,
 "nbformat_minor": 4
}
